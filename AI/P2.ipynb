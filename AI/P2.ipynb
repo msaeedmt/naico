{
  "nbformat": 4,
  "nbformat_minor": 0,
  "metadata": {
    "colab": {
      "name": "Q3.ipynb",
      "provenance": []
    },
    "kernelspec": {
      "name": "python3",
      "display_name": "Python 3"
    },
    "language_info": {
      "name": "python"
    }
  },
  "cells": [
    {
      "cell_type": "code",
      "execution_count": null,
      "metadata": {
        "colab": {
          "base_uri": "https://localhost:8080/"
        },
        "id": "AEuRvqKGTNMt",
        "outputId": "ec036e63-be45-4901-bd18-4e8a9d59cb41"
      },
      "outputs": [
        {
          "output_type": "stream",
          "name": "stdout",
          "text": [
            "Collecting yfinance\n",
            "  Downloading yfinance-0.1.70-py2.py3-none-any.whl (26 kB)\n",
            "Collecting requests>=2.26\n",
            "  Downloading requests-2.27.1-py2.py3-none-any.whl (63 kB)\n",
            "\u001b[K     |████████████████████████████████| 63 kB 810 kB/s \n",
            "\u001b[?25hRequirement already satisfied: multitasking>=0.0.7 in /usr/local/lib/python3.7/dist-packages (from yfinance) (0.0.10)\n",
            "Requirement already satisfied: numpy>=1.15 in /usr/local/lib/python3.7/dist-packages (from yfinance) (1.21.6)\n",
            "Collecting lxml>=4.5.1\n",
            "  Downloading lxml-4.8.0-cp37-cp37m-manylinux_2_17_x86_64.manylinux2014_x86_64.manylinux_2_24_x86_64.whl (6.4 MB)\n",
            "\u001b[K     |████████████████████████████████| 6.4 MB 11.0 MB/s \n",
            "\u001b[?25hRequirement already satisfied: pandas>=0.24.0 in /usr/local/lib/python3.7/dist-packages (from yfinance) (1.3.5)\n",
            "Requirement already satisfied: pytz>=2017.3 in /usr/local/lib/python3.7/dist-packages (from pandas>=0.24.0->yfinance) (2022.1)\n",
            "Requirement already satisfied: python-dateutil>=2.7.3 in /usr/local/lib/python3.7/dist-packages (from pandas>=0.24.0->yfinance) (2.8.2)\n",
            "Requirement already satisfied: six>=1.5 in /usr/local/lib/python3.7/dist-packages (from python-dateutil>=2.7.3->pandas>=0.24.0->yfinance) (1.15.0)\n",
            "Requirement already satisfied: idna<4,>=2.5 in /usr/local/lib/python3.7/dist-packages (from requests>=2.26->yfinance) (2.10)\n",
            "Requirement already satisfied: charset-normalizer~=2.0.0 in /usr/local/lib/python3.7/dist-packages (from requests>=2.26->yfinance) (2.0.12)\n",
            "Requirement already satisfied: urllib3<1.27,>=1.21.1 in /usr/local/lib/python3.7/dist-packages (from requests>=2.26->yfinance) (1.24.3)\n",
            "Requirement already satisfied: certifi>=2017.4.17 in /usr/local/lib/python3.7/dist-packages (from requests>=2.26->yfinance) (2021.10.8)\n",
            "Installing collected packages: requests, lxml, yfinance\n",
            "  Attempting uninstall: requests\n",
            "    Found existing installation: requests 2.23.0\n",
            "    Uninstalling requests-2.23.0:\n",
            "      Successfully uninstalled requests-2.23.0\n",
            "  Attempting uninstall: lxml\n",
            "    Found existing installation: lxml 4.2.6\n",
            "    Uninstalling lxml-4.2.6:\n",
            "      Successfully uninstalled lxml-4.2.6\n",
            "\u001b[31mERROR: pip's dependency resolver does not currently take into account all the packages that are installed. This behaviour is the source of the following dependency conflicts.\n",
            "google-colab 1.0.0 requires requests~=2.23.0, but you have requests 2.27.1 which is incompatible.\n",
            "datascience 0.10.6 requires folium==0.2.1, but you have folium 0.8.3 which is incompatible.\u001b[0m\n",
            "Successfully installed lxml-4.8.0 requests-2.27.1 yfinance-0.1.70\n"
          ]
        }
      ],
      "source": [
        "!pip install yfinance"
      ]
    },
    {
      "cell_type": "code",
      "source": [
        "import yfinance as yf\n",
        "import pandas as pd\n",
        "from scipy.stats import pearsonr\n",
        "from scipy.stats import spearmanr\n",
        "import numpy as np\n",
        "import math"
      ],
      "metadata": {
        "id": "YU6NTtbiTQ7x"
      },
      "execution_count": null,
      "outputs": []
    },
    {
      "cell_type": "code",
      "source": [
        "def get_historical_klines_with_efficiancy_rate(symbol, start, interval):\n",
        "  ticker = yf.Ticker(symbol)\n",
        "  df = ticker.history(start=start, interval=interval)\n",
        "  df.drop(['Dividends','Stock Splits'], axis=1, inplace=True)\n",
        "  df['efficiency_rate'] = ((df['Close']-df['Open'])/df['Open']) * 100\n",
        "  return df\n",
        "\n",
        "def get_correlation_efficiency_rates(df1, df2, df1_feature='efficiency_rate', df2_feature='efficiency_rate'):\n",
        "  merged_df = pd.merge(df1[[df1_feature]], df2[[df2_feature]], left_index=True, right_index=True, suffixes=('_df1', '_df2'))\n",
        "  corr, _ = pearsonr(merged_df.iloc[:,0].tolist(), merged_df.iloc[:,1].tolist())\n",
        "  return corr"
      ],
      "metadata": {
        "id": "TDuP1uAVTSyy"
      },
      "execution_count": null,
      "outputs": []
    },
    {
      "cell_type": "code",
      "source": [
        "start=\"2017-01-01\"\n",
        "interval=\"1d\"\n",
        "oil_df = get_historical_klines_with_efficiancy_rate(\"CL=F\", start, interval)\n",
        "gold_df = get_historical_klines_with_efficiancy_rate(\"GC=F\", start, interval)\n",
        "btc_df = get_historical_klines_with_efficiancy_rate(\"BTC-USD\", start, interval)"
      ],
      "metadata": {
        "id": "PT1bk7HPTSz3"
      },
      "execution_count": null,
      "outputs": []
    },
    {
      "cell_type": "code",
      "source": [
        "btc_oil_corr = get_correlation_efficiency_rates(btc_df, oil_df)\n",
        "btc_gold_corr = get_correlation_efficiency_rates(btc_df, gold_df)\n",
        "btc_oil_corr, btc_gold_corr"
      ],
      "metadata": {
        "colab": {
          "base_uri": "https://localhost:8080/"
        },
        "id": "wtFWA03jTS58",
        "outputId": "f14e20a2-1a69-459a-d1ff-223341e580c0"
      },
      "execution_count": null,
      "outputs": [
        {
          "output_type": "execute_result",
          "data": {
            "text/plain": [
              "(0.045664202001800824, 0.057604430059923634)"
            ]
          },
          "metadata": {},
          "execution_count": 18
        }
      ]
    },
    {
      "cell_type": "markdown",
      "source": [
        "# with some positive and negative lags"
      ],
      "metadata": {
        "id": "jqSR5foCTd76"
      }
    },
    {
      "cell_type": "code",
      "source": [
        "btc_df['lag_1'] = btc_df['efficiency_rate'].shift(1)\n",
        "btc_df['lag_2'] = btc_df['efficiency_rate'].shift(2)\n",
        "btc_df['lag_3'] = btc_df['efficiency_rate'].shift(3)\n",
        "btc_df['lag_4'] = btc_df['efficiency_rate'].shift(-1)\n",
        "btc_df['lag_5'] = btc_df['efficiency_rate'].shift(-2)\n",
        "btc_df['lag_6'] = btc_df['efficiency_rate'].shift(-3)\n",
        "btc_df.dropna(inplace=True)"
      ],
      "metadata": {
        "id": "bgqmkyWPTS7_"
      },
      "execution_count": null,
      "outputs": []
    },
    {
      "cell_type": "code",
      "source": [
        "btc_oil_corrs = []\n",
        "btc_gold_corrs = []\n",
        "for i in range(1,7):\n",
        "  btc_oil_corr = get_correlation_efficiency_rates(btc_df, oil_df, df1_feature='lag_{}'.format(i))\n",
        "  btc_gold_corr = get_correlation_efficiency_rates(btc_df, gold_df, df1_feature='lag_{}'.format(i))\n",
        "  btc_oil_corrs.append(btc_oil_corr)\n",
        "  btc_gold_corrs.append(btc_gold_corr)\n",
        "\n",
        "for i in range(6):\n",
        "  print('BTC with Oil correlation with lag_{} : {}'.format(i+1, btc_oil_corrs[i]))\n",
        "  print('BTC with gold correlation with lag_{} : {}\\n'.format(i+1, btc_gold_corrs[i]))"
      ],
      "metadata": {
        "colab": {
          "base_uri": "https://localhost:8080/"
        },
        "id": "kEB2SzpuTlnt",
        "outputId": "35b24ad5-de7b-4ad5-d4bd-5d1c46e91be9"
      },
      "execution_count": null,
      "outputs": [
        {
          "output_type": "stream",
          "name": "stdout",
          "text": [
            "BTC with Oil correlation with lag_1 : 0.026419112425176305\n",
            "BTC with gold correlation with lag_1 : 0.014796710742684028\n",
            "\n",
            "BTC with Oil correlation with lag_2 : -0.0011654625559363672\n",
            "BTC with gold correlation with lag_2 : 0.015220475266542823\n",
            "\n",
            "BTC with Oil correlation with lag_3 : -0.00476407771707883\n",
            "BTC with gold correlation with lag_3 : -0.01656494626002636\n",
            "\n",
            "BTC with Oil correlation with lag_4 : -0.012487795060399943\n",
            "BTC with gold correlation with lag_4 : -0.04198673043908589\n",
            "\n",
            "BTC with Oil correlation with lag_5 : -0.03533048294143138\n",
            "BTC with gold correlation with lag_5 : 0.021935783801464548\n",
            "\n",
            "BTC with Oil correlation with lag_6 : -0.020463242200007527\n",
            "BTC with gold correlation with lag_6 : 0.0018606145403721928\n",
            "\n"
          ]
        }
      ]
    }
  ]
}